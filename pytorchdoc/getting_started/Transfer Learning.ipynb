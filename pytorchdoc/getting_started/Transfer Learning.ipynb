{
 "cells": [
  {
   "cell_type": "markdown",
   "metadata": {},
   "source": [
    "# Transfer Learning\n",
    "Code taken from: https://pytorch.org/tutorials/beginner/transfer_learning_tutorial.html\n",
    "\n",
    "What is transfer learning?\n",
    "In case you already have a pretrained model, you can use it in your model in two ways:\n",
    "1. Fine tuning the model to fit your problem. \n",
    "Which means that the pretrained model is learning as usual, it just not using a random weight at start.\n",
    "2. As a fixed feature extractor. \n",
    "Freezing all the pretrained weights, so it's not training anymore. What we want to train is the result of that model. So after the last layer of pretrained model, we add second layer that actually do the mapping from it to our output."
   ]
  },
  {
   "cell_type": "code",
   "execution_count": 1,
   "metadata": {
    "collapsed": false
   },
   "outputs": [],
   "source": [
    "# sys module\n",
    "from __future__ import print_function, division\n",
    "import time\n",
    "import os\n",
    "import copy\n",
    "\n",
    "# third parties module\n",
    "import torch\n",
    "import torch.nn as nn\n",
    "import torch.optim as optim\n",
    "from torch.optim import lr_scheduler\n",
    "import torchvision\n",
    "from torchvision import datasets, models, transforms\n",
    "import numpy as np\n",
    "import matplotlib.pyplot as plt\n",
    "\n",
    "plt.ion()   # interactive mode"
   ]
  }
 ],
 "metadata": {
  "kernelspec": {
   "display_name": "Python 3",
   "language": "python",
   "name": "python3"
  },
  "language_info": {
   "codemirror_mode": {
    "name": "ipython",
    "version": 3
   },
   "file_extension": ".py",
   "mimetype": "text/x-python",
   "name": "python",
   "nbconvert_exporter": "python",
   "pygments_lexer": "ipython3",
   "version": "3.6.8"
  }
 },
 "nbformat": 4,
 "nbformat_minor": 2
}
